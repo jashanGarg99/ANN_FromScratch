{
  "nbformat": 4,
  "nbformat_minor": 0,
  "metadata": {
    "colab": {
      "provenance": [],
      "authorship_tag": "ABX9TyNwNX5rAI8eIn4qsXWTCmln",
      "include_colab_link": true
    },
    "kernelspec": {
      "name": "python3",
      "display_name": "Python 3"
    },
    "language_info": {
      "name": "python"
    }
  },
  "cells": [
    {
      "cell_type": "markdown",
      "metadata": {
        "id": "view-in-github",
        "colab_type": "text"
      },
      "source": [
        "<a href=\"https://colab.research.google.com/github/ManthanVerma7/ANN_FromScratch/blob/main/ANN_FromScratch.ipynb\" target=\"_parent\"><img src=\"https://colab.research.google.com/assets/colab-badge.svg\" alt=\"Open In Colab\"/></a>"
      ]
    },
    {
      "cell_type": "code",
      "execution_count": null,
      "metadata": {
        "id": "NR8NnPO6HQ8l"
      },
      "outputs": [],
      "source": [
        "import numpy as np\n",
        "import pandas as pd\n",
        "from matplotlib import pyplot as plt\n",
        "import random\n",
        "np.random.seed(0)\n",
        "random.seed(0)"
      ]
    },
    {
      "cell_type": "code",
      "source": [
        "data = pd.read_csv('/kaggle/input/handwritten-digits/train.csv')\n",
        "data = np.array(data)\n",
        "m, n = data.shape\n",
        "np.random.shuffle(data)"
      ],
      "metadata": {
        "id": "fLKMRjTFHUC0"
      },
      "execution_count": null,
      "outputs": []
    },
    {
      "cell_type": "code",
      "source": [
        "data_dev = data[0:28000].T\n",
        "Y_dev = data_dev[0]\n",
        "X_dev = data_dev[1:n]\n",
        "X_dev = X_dev / 255."
      ],
      "metadata": {
        "id": "-VrBnDWMHWhl"
      },
      "execution_count": null,
      "outputs": []
    },
    {
      "cell_type": "code",
      "source": [
        "data_train = data[1000:m].T\n",
        "Y_train = data_train[0]\n",
        "X_train = data_train[1:n]\n",
        "X_train = X_train / 255.\n",
        "_, m_train = X_train.shape"
      ],
      "metadata": {
        "id": "YF_irJttHZMf"
      },
      "execution_count": null,
      "outputs": []
    },
    {
      "cell_type": "code",
      "source": [
        "def init_params():\n",
        "    W1 = np.random.rand(128, 784) - 0.5\n",
        "    b1 = np.random.rand(128, 1) - 0.5\n",
        "    W2 = np.random.rand(64, 128) - 0.5\n",
        "    b2 = np.random.rand(64, 1) - 0.5\n",
        "    W3 = np.random.rand(10, 64) - 0.5\n",
        "    b3 = np.random.rand(10, 1) - 0.5\n",
        "    return W1, b1, W2, b2, W3, b3"
      ],
      "metadata": {
        "id": "Gpi9Yl-OHblG"
      },
      "execution_count": null,
      "outputs": []
    },
    {
      "cell_type": "code",
      "source": [
        "# Activation functions and their derivatives\n",
        "def LeakyReLU(Z, alpha=0.01):\n",
        "    return np.maximum(alpha * Z, Z)\n",
        "\n",
        "def ELU(Z, alpha=1.0):\n",
        "    return np.where(Z > 0, Z, alpha * (np.exp(Z) - 1))\n",
        "\n",
        "def ReLU(Z):\n",
        "    return np.maximum(0, Z)\n",
        "\n",
        "def LeakyReLU_deriv(Z, alpha=0.01):\n",
        "    return np.where(Z > 0, 1, alpha)\n",
        "\n",
        "def ELU_deriv(Z, alpha=1.0):\n",
        "    return np.where(Z > 0, 1, alpha * np.exp(Z))\n",
        "\n",
        "def ReLU_deriv(Z):\n",
        "    return np.where(Z > 0, 1, 0)\n",
        "\n",
        "def softmax(Z):\n",
        "    A = np.exp(Z) / np.sum(np.exp(Z), axis=0)\n",
        "    return A\n",
        "\n",
        "def sigmoid(Z):\n",
        "    return 1 / (1 + np.exp(-Z))\n",
        "\n",
        "def sigmoid_deriv(Z):\n",
        "    return sigmoid(Z) * (1 - sigmoid(Z))"
      ],
      "metadata": {
        "id": "AWHfuAUmHeaP"
      },
      "execution_count": null,
      "outputs": []
    },
    {
      "cell_type": "code",
      "source": [
        "def forward_prop(W1, b1, W2, b2, W3, b3, X, activation_hidden1, activation_hidden2):\n",
        "    Z1 = W1.dot(X) + b1\n",
        "    A1 = activation_hidden1(Z1)\n",
        "    Z2 = W2.dot(A1) + b2\n",
        "    A2 = activation_hidden2(Z2)\n",
        "    Z3 = W3.dot(A2) + b3\n",
        "    A3 = softmax(Z3)\n",
        "    return Z1, A1, Z2, A2, Z3, A3"
      ],
      "metadata": {
        "id": "0ruBW0QsHntX"
      },
      "execution_count": null,
      "outputs": []
    },
    {
      "cell_type": "code",
      "source": [
        "def one_hot(Y):\n",
        "    one_hot_Y = np.zeros((Y.size, Y.max() + 1))\n",
        "    one_hot_Y[np.arange(Y.size), Y] = 1\n",
        "    one_hot_Y = one_hot_Y.T\n",
        "    return one_hot_Y"
      ],
      "metadata": {
        "id": "vn3i_4mfHq8p"
      },
      "execution_count": null,
      "outputs": []
    },
    {
      "cell_type": "code",
      "source": [
        "def backward_prop(Z1, A1, Z2, A2, Z3, A3, W1, W2, W3, X, Y, activation_hidden1_deriv, activation_hidden2_deriv):\n",
        "    one_hot_Y = one_hot(Y)\n",
        "    dZ3 = A3 - one_hot_Y\n",
        "    dW3 = 1 / m * dZ3.dot(A2.T)\n",
        "    db3 = 1 / m * np.sum(dZ3, axis=1, keepdims=True)\n",
        "    dZ2 = W3.T.dot(dZ3) * activation_hidden2_deriv(Z2)\n",
        "    dW2 = 1 / m * dZ2.dot(A1.T)\n",
        "    db2 = 1 / m * np.sum(dZ2, axis=1, keepdims=True)\n",
        "    dZ1 = W2.T.dot(dZ2) * activation_hidden1_deriv(Z1)\n",
        "    dW1 = 1 / m * dZ1.dot(X.T)\n",
        "    db1 = 1 / m * np.sum(dZ1, axis=1, keepdims=True)\n",
        "    return dW1, db1, dW2, db2, dW3, db3"
      ],
      "metadata": {
        "id": "2tKLcZ9UHti2"
      },
      "execution_count": null,
      "outputs": []
    },
    {
      "cell_type": "code",
      "source": [
        "def update_params(W1, b1, W2, b2, W3, b3, dW1, db1, dW2, db2, dW3, db3, alpha):\n",
        "    W1 = W1 - alpha * dW1\n",
        "    b1 = b1 - alpha * db1\n",
        "    W2 = W2 - alpha * dW2\n",
        "    b2 = b2 - alpha * db2\n",
        "    W3 = W3 - alpha * dW3\n",
        "    b3 = b3 - alpha * db3\n",
        "    return W1, b1, W2, b2, W3, b3"
      ],
      "metadata": {
        "id": "R9_G1UZeHxZJ"
      },
      "execution_count": null,
      "outputs": []
    },
    {
      "cell_type": "code",
      "source": [
        "def get_accuracy(predictions, Y):\n",
        "    return np.sum(predictions == Y) / Y.size"
      ],
      "metadata": {
        "id": "_m37eQcLH0AJ"
      },
      "execution_count": null,
      "outputs": []
    },
    {
      "cell_type": "code",
      "source": [
        "def gradient_descent(X, Y, alpha, iterations, activation_hidden1, activation_hidden2, activation_hidden1_deriv, activation_hidden2_deriv):\n",
        "    W1, b1, W2, b2, W3, b3 = init_params()\n",
        "    accuracy_list = []\n",
        "    for i in range(iterations):\n",
        "        Z1, A1, Z2, A2, Z3, A3 = forward_prop(W1, b1, W2, b2, W3, b3, X, activation_hidden1, activation_hidden2)\n",
        "        dW1, db1, dW2, db2, dW3, db3 = backward_prop(Z1, A1, Z2, A2, Z3, A3, W1, W2, W3, X, Y, activation_hidden1_deriv, activation_hidden2_deriv)\n",
        "        W1, b1, W2, b2, W3, b3 = update_params(W1, b1, W2, b2, W3, b3, dW1, db1, dW2, db2, dW3, db3, alpha)\n",
        "        if i % 10 == 0:\n",
        "            predictions = np.argmax(A3, axis=0)\n",
        "            accuracy = get_accuracy(predictions, Y)\n",
        "            accuracy_list.append(accuracy)\n",
        "            print(f\"Iteration {i}: {accuracy}\")\n",
        "    return W1, b1, W2, b2, W3, b3, accuracy_list"
      ],
      "metadata": {
        "id": "cODWNUK3H2zl"
      },
      "execution_count": null,
      "outputs": []
    },
    {
      "cell_type": "code",
      "source": [
        "def make_predictions(X, W1, b1, W2, b2, W3, b3, activation_hidden1, activation_hidden2):\n",
        "    _, _, _, _, _, A3 = forward_prop(W1, b1, W2, b2, W3, b3, X, activation_hidden1, activation_hidden2)\n",
        "    predictions = np.argmax(A3, axis=0)\n",
        "    return predictions"
      ],
      "metadata": {
        "id": "CdF-fAF6H6Il"
      },
      "execution_count": null,
      "outputs": []
    },
    {
      "cell_type": "code",
      "source": [
        "print(\"training with LeakyReLU and ELU\")\n",
        "W1, b1, W2, b2, W3, b3, accuracy_list_leaky_elu = gradient_descent(\n",
        "    X_dev, Y_dev, 0.10, 500, LeakyReLU, ELU, LeakyReLU_deriv, ELU_deriv)\n",
        "\n",
        "predictions_test_leaky_elu = make_predictions(X_dev, W1, b1, W2, b2, W3, b3, LeakyReLU, ELU)"
      ],
      "metadata": {
        "id": "31vcSUfWH9a-"
      },
      "execution_count": null,
      "outputs": []
    },
    {
      "cell_type": "code",
      "source": [
        "# Training and testing with ReLU\n",
        "print(\"training with only ReLU\")\n",
        "W1, b1, W2, b2, W3, b3, accuracy_list_relu = gradient_descent(\n",
        "    X_train, Y_train, 0.10, 500, ReLU, ReLU, ReLU_deriv, ReLU_deriv)\n",
        "\n",
        "predictions_test_relu = make_predictions(X_dev, W1, b1, W2, b2, W3, b3, ReLU, ReLU)"
      ],
      "metadata": {
        "id": "sfWznWYDIANW"
      },
      "execution_count": null,
      "outputs": []
    },
    {
      "cell_type": "code",
      "source": [
        "print(\"training with Sigmoid\")\n",
        "W1, b1, W2, b2, W3, b3, accuracy_list_sigmoid = gradient_descent(\n",
        "    X_dev, Y_dev, 0.10, 500, sigmoid, sigmoid, sigmoid_deriv, sigmoid_deriv)\n",
        "\n",
        "predictions_test_sigmoid = make_predictions(X_dev, W1, b1, W2, b2, W3, b3, sigmoid, sigmoid)"
      ],
      "metadata": {
        "id": "-IfpbxzAIDri"
      },
      "execution_count": null,
      "outputs": []
    },
    {
      "cell_type": "code",
      "source": [
        "plt.plot(accuracy_list_leaky_elu, label='LeakyReLU + ELU')\n",
        "plt.plot(accuracy_list_relu, label='ReLU')\n",
        "plt.plot(accuracy_list_sigmoid, label='Sigmoid')\n",
        "plt.xlabel('Iteration (x10)')\n",
        "plt.ylabel('Accuracy')\n",
        "plt.legend()\n",
        "plt.show()"
      ],
      "metadata": {
        "id": "HUFHkW-8IG0C"
      },
      "execution_count": null,
      "outputs": []
    },
    {
      "cell_type": "code",
      "source": [
        "def test_prediction(index, W1, b1, W2, b2, W3, b3):\n",
        "    current_image = X_train[:, index, None]\n",
        "    prediction = make_predictions(X_train[:, index, None], W1, b1, W2, b2, W3, b3, LeakyReLU,ELU)\n",
        "    label = Y_train[index]\n",
        "    print(\"Prediction: \", prediction)\n",
        "    print(\"Label: \", label)\n",
        "\n",
        "    current_image = current_image.reshape((28, 28)) * 255\n",
        "    plt.gray()\n",
        "    plt.imshow(current_image, interpolation='nearest')\n",
        "    plt.show()"
      ],
      "metadata": {
        "id": "PeAmHrF6IJ_8"
      },
      "execution_count": null,
      "outputs": []
    },
    {
      "cell_type": "code",
      "source": [
        "test_prediction(7, W1, b1, W2, b2, W3, b3)"
      ],
      "metadata": {
        "id": "IyDZuAkLIM6K"
      },
      "execution_count": null,
      "outputs": []
    },
    {
      "cell_type": "markdown",
      "source": [
        "![download.png](data:image/png;base64,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)"
      ],
      "metadata": {
        "id": "wMcfrVxEIVMZ"
      }
    }
  ]
}